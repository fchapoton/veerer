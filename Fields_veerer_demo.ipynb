{
 "cells": [
  {
   "cell_type": "markdown",
   "metadata": {},
   "source": [
    "Veering triangulation -- Illustrations\n",
    "==============================\n",
    "V. Delecroix, 27 aug. Fields Institute\n",
    "\n",
    "`veerer` is a program for exploration of veering triangulations. It is written by Mark Bell, Vincent Delecroix and Saul Schleimer."
   ]
  },
  {
   "cell_type": "code",
   "execution_count": null,
   "metadata": {},
   "outputs": [],
   "source": [
    "from veerer import *\n",
    "from surface_dynamics import *"
   ]
  },
  {
   "cell_type": "code",
   "execution_count": null,
   "metadata": {},
   "outputs": [],
   "source": [
    "faces0 = '(0,1,2)(~0,~1,~2)'\n",
    "colours0 = 'RRB'\n",
    "T0 = VeeringTriangulation(faces0, colours0)"
   ]
  },
  {
   "cell_type": "code",
   "execution_count": null,
   "metadata": {},
   "outputs": [],
   "source": [
    "T0.genus()"
   ]
  },
  {
   "cell_type": "code",
   "execution_count": null,
   "metadata": {},
   "outputs": [],
   "source": [
    "T0.stratum()"
   ]
  },
  {
   "cell_type": "code",
   "execution_count": null,
   "metadata": {},
   "outputs": [],
   "source": [
    "# triangulation is core if it carries some flat structure\n",
    "T0.is_core()"
   ]
  },
  {
   "cell_type": "code",
   "execution_count": null,
   "metadata": {},
   "outputs": [],
   "source": [
    "# a triangulation is geometric if it is the L^infinity-Delaunay\n",
    "# triangulation of some flat structure\n",
    "T0.is_geometric()"
   ]
  },
  {
   "cell_type": "code",
   "execution_count": null,
   "metadata": {},
   "outputs": [],
   "source": []
  },
  {
   "cell_type": "code",
   "execution_count": null,
   "metadata": {},
   "outputs": [],
   "source": [
    "faces1 = '(0, ~3, 4)(1, 2, ~7)(3, ~1, ~2)(5, ~8, ~4)(6, ~5, 8)(7, ~6, ~0)'\n",
    "colours1 = 'RBRRBRBRB'\n",
    "T1 = VeeringTriangulation(faces1, colours1)"
   ]
  },
  {
   "cell_type": "code",
   "execution_count": null,
   "metadata": {},
   "outputs": [],
   "source": [
    "T1.stratum()"
   ]
  },
  {
   "cell_type": "code",
   "execution_count": null,
   "metadata": {},
   "outputs": [],
   "source": []
  },
  {
   "cell_type": "code",
   "execution_count": null,
   "metadata": {},
   "outputs": [],
   "source": [
    "faces2 = '(0,1,2)(~0,~3,~8)(3,5,4)(~4,~1,~5)(6,7,8)(~6,9,~2)'\n",
    "colours2 = 'BRBRBBBRBR'\n",
    "T2 = VeeringTriangulation(faces2, colours2)"
   ]
  },
  {
   "cell_type": "code",
   "execution_count": null,
   "metadata": {},
   "outputs": [],
   "source": [
    "T2.stratum()"
   ]
  },
  {
   "cell_type": "code",
   "execution_count": null,
   "metadata": {},
   "outputs": [],
   "source": []
  },
  {
   "cell_type": "code",
   "execution_count": null,
   "metadata": {},
   "outputs": [],
   "source": [
    "FS0 = T0.flat_structure_min()\n",
    "FS0.plot().show(figsize=5)"
   ]
  },
  {
   "cell_type": "code",
   "execution_count": null,
   "metadata": {},
   "outputs": [],
   "source": [
    "FS1 = T1.flat_structure_min()\n",
    "FS1.plot().show(figsize=5)"
   ]
  },
  {
   "cell_type": "code",
   "execution_count": null,
   "metadata": {},
   "outputs": [],
   "source": [
    "FS2 = T2.flat_structure_min()\n",
    "FS2.plot().show(figsize=5)"
   ]
  },
  {
   "cell_type": "code",
   "execution_count": null,
   "metadata": {},
   "outputs": [],
   "source": [
    "FS1.plot(horizontal_train_track=True, edge_labels=False).show(figsize=5)"
   ]
  },
  {
   "cell_type": "code",
   "execution_count": null,
   "metadata": {},
   "outputs": [],
   "source": [
    "FS1.plot(vertical_train_track=True, edge_labels=False).show(figsize=5)"
   ]
  },
  {
   "cell_type": "code",
   "execution_count": null,
   "metadata": {},
   "outputs": [],
   "source": []
  },
  {
   "cell_type": "code",
   "execution_count": null,
   "metadata": {},
   "outputs": [],
   "source": [
    "# constructing veering triangulations from a component stratum\n",
    "Q = QuadraticStratum(3,3,3,3)\n",
    "Qreg = Q.regular_component()\n",
    "Qirr = Q.irregular_component()"
   ]
  },
  {
   "cell_type": "code",
   "execution_count": null,
   "metadata": {},
   "outputs": [],
   "source": [
    "VeeringTriangulation.from_stratum(Qreg)"
   ]
  },
  {
   "cell_type": "code",
   "execution_count": null,
   "metadata": {},
   "outputs": [],
   "source": [
    "VeeringTriangulation.from_stratum(Qirr)"
   ]
  },
  {
   "cell_type": "code",
   "execution_count": null,
   "metadata": {},
   "outputs": [],
   "source": []
  },
  {
   "cell_type": "code",
   "execution_count": null,
   "metadata": {},
   "outputs": [],
   "source": []
  },
  {
   "cell_type": "code",
   "execution_count": null,
   "metadata": {},
   "outputs": [],
   "source": [
    "# constructing a veering triangulation from a pseudo-Anosov homeomorphism\n",
    "import flipper"
   ]
  },
  {
   "cell_type": "code",
   "execution_count": null,
   "metadata": {},
   "outputs": [],
   "source": [
    "S_2_1 = flipper.load('S_2_1')\n",
    "h = S_2_1.mapping_class('abcD')\n",
    "print h.nielsen_thurston_type()"
   ]
  },
  {
   "cell_type": "code",
   "execution_count": null,
   "metadata": {},
   "outputs": [],
   "source": [
    "VeeringTriangulation.from_pseudo_anosov(h)"
   ]
  },
  {
   "cell_type": "code",
   "execution_count": null,
   "metadata": {},
   "outputs": [],
   "source": []
  },
  {
   "cell_type": "code",
   "execution_count": null,
   "metadata": {},
   "outputs": [],
   "source": []
  },
  {
   "cell_type": "code",
   "execution_count": null,
   "metadata": {},
   "outputs": [],
   "source": [
    "# start from our surface in H(2) and let us flip some edges\n",
    "S = T1.copy()\n",
    "print S.flippable_edges()"
   ]
  },
  {
   "cell_type": "code",
   "execution_count": null,
   "metadata": {},
   "outputs": [],
   "source": [
    "S.flip(3, BLUE)\n",
    "print S.flippable_edges()"
   ]
  },
  {
   "cell_type": "code",
   "execution_count": null,
   "metadata": {},
   "outputs": [],
   "source": [
    "S.flip(8, BLUE)\n",
    "print S.flippable_edges()"
   ]
  },
  {
   "cell_type": "code",
   "execution_count": null,
   "metadata": {},
   "outputs": [],
   "source": [
    "S.flip(4, RED)"
   ]
  },
  {
   "cell_type": "code",
   "execution_count": null,
   "metadata": {},
   "outputs": [],
   "source": [
    "FS = S.flat_structure_min()"
   ]
  },
  {
   "cell_type": "code",
   "execution_count": null,
   "metadata": {},
   "outputs": [],
   "source": [
    "FS.plot()"
   ]
  },
  {
   "cell_type": "code",
   "execution_count": null,
   "metadata": {},
   "outputs": [],
   "source": [
    "S.flip(7, RED)"
   ]
  },
  {
   "cell_type": "code",
   "execution_count": null,
   "metadata": {},
   "outputs": [],
   "source": [
    "S.is_core()"
   ]
  },
  {
   "cell_type": "code",
   "execution_count": null,
   "metadata": {},
   "outputs": [],
   "source": [
    "print S.train_track_polytope(HORIZONTAL)\n",
    "print S.train_track_polytope(VERTICAL)"
   ]
  },
  {
   "cell_type": "code",
   "execution_count": null,
   "metadata": {},
   "outputs": [],
   "source": []
  },
  {
   "cell_type": "code",
   "execution_count": null,
   "metadata": {},
   "outputs": [],
   "source": [
    "print T1.train_track_polytope(HORIZONTAL)\n",
    "print T1.train_track_polytope(VERTICAL)"
   ]
  },
  {
   "cell_type": "code",
   "execution_count": null,
   "metadata": {},
   "outputs": [],
   "source": [
    "print T1.geometric_polytope()"
   ]
  },
  {
   "cell_type": "code",
   "execution_count": null,
   "metadata": {},
   "outputs": [],
   "source": [
    "T1.is_geometric()"
   ]
  },
  {
   "cell_type": "code",
   "execution_count": null,
   "metadata": {},
   "outputs": [],
   "source": []
  },
  {
   "cell_type": "code",
   "execution_count": null,
   "metadata": {},
   "outputs": [],
   "source": []
  },
  {
   "cell_type": "code",
   "execution_count": null,
   "metadata": {},
   "outputs": [],
   "source": [
    "A0 = Automaton.from_triangulation(T0)"
   ]
  },
  {
   "cell_type": "code",
   "execution_count": null,
   "metadata": {},
   "outputs": [],
   "source": [
    "A0"
   ]
  },
  {
   "cell_type": "code",
   "execution_count": null,
   "metadata": {},
   "outputs": [],
   "source": [
    "print len(A0)\n",
    "print len(A0.geometric_triangulations())"
   ]
  },
  {
   "cell_type": "code",
   "execution_count": null,
   "metadata": {},
   "outputs": [],
   "source": []
  },
  {
   "cell_type": "code",
   "execution_count": null,
   "metadata": {},
   "outputs": [],
   "source": [
    "A1 = Automaton.from_triangulation(T1)"
   ]
  },
  {
   "cell_type": "code",
   "execution_count": null,
   "metadata": {},
   "outputs": [],
   "source": [
    "print len(A1)\n",
    "print len(A1.geometric_triangulations())"
   ]
  },
  {
   "cell_type": "code",
   "execution_count": null,
   "metadata": {},
   "outputs": [],
   "source": []
  },
  {
   "cell_type": "code",
   "execution_count": null,
   "metadata": {},
   "outputs": [],
   "source": [
    "A2 = Automaton.from_triangulation(T2)"
   ]
  },
  {
   "cell_type": "code",
   "execution_count": null,
   "metadata": {},
   "outputs": [],
   "source": [
    "print len(A2)\n",
    "print len(A2.geometric_triangulations())"
   ]
  },
  {
   "cell_type": "code",
   "execution_count": null,
   "metadata": {},
   "outputs": [],
   "source": []
  },
  {
   "cell_type": "markdown",
   "metadata": {},
   "source": [
    "Some data\n",
    "---------\n",
    "\n",
    "| component    | dim | core    | geometric  | cylindrical |\n",
    "|--------------|-----|---------|------------|-------------|\n",
    "| H(0)         |   2 |       2 |          2 |           2 |\n",
    "| H(2)         |   4 |      86 |         54 |          24 |\n",
    "| H(1,1)       |   5 |     876 |        396 |         136 |\n",
    "| H(4)^hyp     |   6 |    9116 |       2916 |         636 |\n",
    "| H(4)^odd     |   6 |   47552 |      35476 |        1970 |\n",
    "| H(2^2)^hyp   |   7 |  111732 |      24192 |        3934 |\n",
    "| H(2^2)^odd   |   7 |  874750 |     711568 |       12740 |\n",
    "| H(3,1)       |   7 | 2011366 |    1317136 |       33164 |\n",
    "\n",
    "| component    | dim | core    | geometric  | cylindrical |\n",
    "|--------------|-----|---------|------------|-------------|\n",
    "| H(0^2)       |   3 |      16 |         12 |          18 |\n",
    "| H(0^3)       |   4 |      96 |         88 |          30 |\n",
    "| H(0^4)       |   5 |     750 |        704 |          98 |\n",
    "| H(2,0)       |   5 |    2562 |       2022 |         282 |\n",
    "| H(0^5)       |   6 |    6518 |       6246 |         276 |\n",
    "| H(1^2,0)     |   6 |   36388 |      22016 |        1832 |\n",
    "| H(0^6)       |   7 |   67037 |      63885 |         934 |\n",
    "| H(4,0)^hyp   |   7 |  542950 |     236646 |       12710 |\n",
    "| H(0^7)       |   8 |  737876 |     694344 |        2946 |\n",
    "| H(1^1,0^2)   |   7 | 1187686 |     854636 |       19736 |\n",
    "| H_2(2,0^3)   |   7 | 1399248 |    1262890 |       17104 |\n",
    "| H(4,0)^odd   |   7 | 3171560 |    2614780 |       42220 |"
   ]
  },
  {
   "cell_type": "code",
   "execution_count": null,
   "metadata": {},
   "outputs": [],
   "source": []
  },
  {
   "cell_type": "code",
   "execution_count": null,
   "metadata": {},
   "outputs": [],
   "source": []
  }
 ],
 "metadata": {
  "kernelspec": {
   "display_name": "SageMath 8.3",
   "language": "",
   "name": "sagemath"
  },
  "language_info": {
   "codemirror_mode": {
    "name": "ipython",
    "version": 2
   },
   "file_extension": ".py",
   "mimetype": "text/x-python",
   "name": "python",
   "nbconvert_exporter": "python",
   "pygments_lexer": "ipython2",
   "version": "2.7.15"
  }
 },
 "nbformat": 4,
 "nbformat_minor": 2
}
